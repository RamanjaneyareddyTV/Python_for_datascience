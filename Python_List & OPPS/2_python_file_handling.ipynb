{
 "cells": [
  {
   "cell_type": "markdown",
   "metadata": {
    "colab_type": "text",
    "id": "hKCc0gncbfHC"
   },
   "source": [
    "### **Pre-requisities for this class. Please execute this cell before starting the class**"
   ]
  },
  {
   "cell_type": "code",
   "execution_count": 1,
   "metadata": {
    "colab": {},
    "colab_type": "code",
    "id": "bcVyRdN6biFX"
   },
   "outputs": [],
   "source": [
    "def write_file(file_name,content):\n",
    "  with open(file_name,\"w\") as f:\n",
    "    f.write(content)\n",
    "\n",
    "text = '''Teacher: Why are you late, raghu?\n",
    "Raghu: Because of the sign\n",
    "Teacher: What sign?\n",
    "Raghu: The one that says \"School Ahead, Go slow\"'''\n",
    "write_file(\"funny.txt\",text)\n",
    "\n",
    "text='''Two roads diverged in a yellow wood,\n",
    "And sorry I could not travel both\n",
    "And be one traveler, long I stood\n",
    "And looked down one as far as I could\n",
    "To where it bent in the undergrowth;\n",
    "\n",
    "Then took the other, as just as fair,\n",
    "And having perhaps the better claim,\n",
    "Because it was grassy and wanted wear;\n",
    "Though as for that the passing there\n",
    "Had worn them really about the same,\n",
    "\n",
    "And both that morning equally lay\n",
    "In leaves no step had trodden black.\n",
    "Oh, I kept the first for another day!\n",
    "Yet knowing how way leads on to way,\n",
    "I doubted if I should ever come back.\n",
    "\n",
    "I shall be telling this with a sigh\n",
    "Somewhere ages and ages hence:\n",
    "Two roads diverged in a wood, and I—\n",
    "I took the one less traveled by,\n",
    "And that has made all the difference.'''\n",
    "write_file(\"poem.txt\",text)\n",
    "\n",
    "text='''rohit,9\n",
    "shakib,56\n",
    "babar,56\n",
    "rohit,120\n",
    "rohit,105\n",
    "shakib,78\n",
    "rohit,140\n",
    "babar,45\n",
    "rohit,130\n",
    "shakib,102\n",
    "babar,120\n",
    "babar,5\n",
    "shakib,72\n",
    "babar,67'''\n",
    "write_file(\"scores.csv\",text)\n",
    "\n",
    "text='''Company Name,Price,Earnings Per Share, Book Value\n",
    "Reliance,1467,66,653\n",
    "Tata Steel,391,89,572\n",
    "Infosys,650,35,147\n",
    "Axis Bank,739,19,263\n",
    "Bajaj Finance,4044,69,341'''\n",
    "write_file(\"stocks.csv\",text)"
   ]
  },
  {
   "cell_type": "markdown",
   "metadata": {
    "colab_type": "text",
    "id": "f53OjP3Q6Cea"
   },
   "source": [
    "### **Reading a text file**\n"
   ]
  },
  {
   "cell_type": "code",
   "execution_count": 3,
   "metadata": {
    "colab": {
     "base_uri": "https://localhost:8080/",
     "height": 137
    },
    "colab_type": "code",
    "id": "VmsYaI0VlUCa",
    "outputId": "4e57ce91-dc37-4944-bae0-cbb316308e1d"
   },
   "outputs": [
    {
     "name": "stdout",
     "output_type": "stream",
     "text": [
      "Teacher: Why are you late, raghu?\n",
      "\n",
      "Raghu: Because of the sign\n",
      "\n",
      "Teacher: What sign?\n",
      "\n",
      "Raghu: The one that says \"School Ahead, Go slow\"\n"
     ]
    }
   ],
   "source": [
    "f=open(\"funny.txt\",\"r\")\n",
    "for line in f:\n",
    "    print(line)\n",
    "f.close()"
   ]
  },
  {
   "cell_type": "markdown",
   "metadata": {
    "colab_type": "text",
    "id": "dUKdbaVZ6V6A"
   },
   "source": [
    "### **Using readlines() function to read  all lines into a list**"
   ]
  },
  {
   "cell_type": "code",
   "execution_count": 2,
   "metadata": {
    "colab": {
     "base_uri": "https://localhost:8080/",
     "height": 54
    },
    "colab_type": "code",
    "id": "nZYcodV2wJmj",
    "outputId": "a74119e7-190b-410e-c694-e2176e44c51b"
   },
   "outputs": [
    {
     "name": "stdout",
     "output_type": "stream",
     "text": [
      "['Teacher: Why are you late, raghu?\\n', 'Raghu: Because of the sign\\n', 'Teacher: What sign?\\n', 'Raghu: The one that says \"School Ahead, Go slow\"']\n"
     ]
    }
   ],
   "source": [
    "f=open(\"funny.txt\",\"r\")\n",
    "lines = f.readlines()\n",
    "print(lines)\n",
    "f.close()"
   ]
  },
  {
   "cell_type": "markdown",
   "metadata": {
    "colab_type": "text",
    "id": "osfegWId6j4Y"
   },
   "source": [
    "### **Write file**"
   ]
  },
  {
   "cell_type": "code",
   "execution_count": 4,
   "metadata": {
    "colab": {},
    "colab_type": "code",
    "id": "2nDjFdVV6pCx"
   },
   "outputs": [],
   "source": [
    "f=open(\"love.txt\",\"w\")\n",
    "f.write(\"I love python\")\n",
    "f.close()"
   ]
  },
  {
   "cell_type": "code",
   "execution_count": 5,
   "metadata": {
    "colab": {},
    "colab_type": "code",
    "id": "xJEgGKRL7Kh7"
   },
   "outputs": [],
   "source": [
    "f=open(\"love.txt\",\"w\")\n",
    "f.write(\"I love javascript\")\n",
    "f.close()"
   ]
  },
  {
   "cell_type": "markdown",
   "metadata": {
    "colab_type": "text",
    "id": "EoCtd5yD7SHY"
   },
   "source": [
    "### **Using append mode to avoid overwriting existing file content**"
   ]
  },
  {
   "cell_type": "code",
   "execution_count": 6,
   "metadata": {
    "colab": {},
    "colab_type": "code",
    "id": "hjZEwAWf7XSm"
   },
   "outputs": [],
   "source": [
    "# You can use append mode to stop having previous lines overwritten\n",
    "f=open(\"love.txt\",\"a\")\n",
    "f.write(\"I love python\")\n",
    "f.close()"
   ]
  },
  {
   "cell_type": "markdown",
   "metadata": {
    "colab_type": "text",
    "id": "0HBzDzIc7jhL"
   },
   "source": [
    "### **writelines to write multiple lines in one shot**"
   ]
  },
  {
   "cell_type": "code",
   "execution_count": 7,
   "metadata": {
    "colab": {},
    "colab_type": "code",
    "id": "B_Ymbl1G7rgy"
   },
   "outputs": [],
   "source": [
    "f=open(\"love.txt\",\"w\")\n",
    "f.writelines([\"I love C++\\n\",\"I love scala\"])\n",
    "f.close()"
   ]
  },
  {
   "cell_type": "markdown",
   "metadata": {
    "colab_type": "text",
    "id": "aNlwrDQx7wUj"
   },
   "source": [
    "### **With statement**"
   ]
  },
  {
   "cell_type": "markdown",
   "metadata": {
    "colab_type": "text",
    "id": "eyBsetSAb2bP"
   },
   "source": [
    "In previous lines of code every time you open a file you need to close it by calling .close(). Closing file takes care of resource cleanup etc. Alternatively we can use with statement which will take care of closing file so you don't have to do it explicitly. Below code snippet shows how to use with statement for file handling."
   ]
  },
  {
   "cell_type": "code",
   "execution_count": 8,
   "metadata": {
    "colab": {
     "base_uri": "https://localhost:8080/",
     "height": 137
    },
    "colab_type": "code",
    "id": "BYbMgK2z7ziZ",
    "outputId": "0d8c0f94-76ef-4007-c174-15b660c8bab3"
   },
   "outputs": [
    {
     "name": "stdout",
     "output_type": "stream",
     "text": [
      "Teacher: Why are you late, raghu?\n",
      "\n",
      "Raghu: Because of the sign\n",
      "\n",
      "Teacher: What sign?\n",
      "\n",
      "Raghu: The one that says \"School Ahead, Go slow\"\n"
     ]
    }
   ],
   "source": [
    "with open(\"funny.txt\",\"r\") as f:\n",
    "    for line in f:\n",
    "        print(line)"
   ]
  },
  {
   "cell_type": "markdown",
   "metadata": {
    "colab_type": "text",
    "id": "NnIMZgVZ73Cr"
   },
   "source": [
    "### **Cricket score analytics project**"
   ]
  },
  {
   "cell_type": "markdown",
   "metadata": {
    "colab_type": "text",
    "id": "6doXKQf-8IRq"
   },
   "source": [
    "Cricket world cup scores for individual players are given in scores.csv file in below format. \n",
    "\n",
    "|player name|score|\n",
    "|-----------|-----|\n",
    "|rohit|9|\n",
    "|sakib|56|\n",
    "|babar|56|\n",
    "|rohit|120|\n",
    "|rohit|105|\n",
    "|shakib|78|\n",
    "\n",
    "You need to find out min, max and average score for every player."
   ]
  },
  {
   "cell_type": "code",
   "execution_count": 9,
   "metadata": {
    "colab": {
     "base_uri": "https://localhost:8080/",
     "height": 34
    },
    "colab_type": "code",
    "id": "C38vMObt8u7b",
    "outputId": "2d6d9218-59ca-4e25-8e59-f24f44f7824d"
   },
   "outputs": [
    {
     "name": "stdout",
     "output_type": "stream",
     "text": [
      "{'rohit': [9, 120, 105, 140, 130], 'shakib': [56, 78, 102, 72], 'babar': [56, 45, 120, 5, 67]}\n"
     ]
    }
   ],
   "source": [
    "player_scores = {}\n",
    "with open(\"scores.csv\",\"r\") as f:\n",
    "    for line in f:\n",
    "        tokens = line.split(',')\n",
    "        player = tokens[0]\n",
    "        score = int(tokens[1])\n",
    "        if player in player_scores:\n",
    "            player_scores[player].append(score)\n",
    "        else:\n",
    "            player_scores[player] = [score]\n",
    "\n",
    "print(player_scores)"
   ]
  },
  {
   "cell_type": "code",
   "execution_count": 10,
   "metadata": {
    "colab": {
     "base_uri": "https://localhost:8080/",
     "height": 68
    },
    "colab_type": "code",
    "id": "1vr2mNYx9LzM",
    "outputId": "cf9b4586-865d-4869-cee7-4d8d7c43db05"
   },
   "outputs": [
    {
     "name": "stdout",
     "output_type": "stream",
     "text": [
      "rohit==>Min:9, Max:140, Avg:100.8\n",
      "shakib==>Min:56, Max:102, Avg:77.0\n",
      "babar==>Min:5, Max:120, Avg:58.6\n"
     ]
    }
   ],
   "source": [
    "for player, score_list in player_scores.items():\n",
    "    min_score=min(score_list)\n",
    "    max_score=max(score_list)\n",
    "    avg_score=sum(score_list)/len(score_list)\n",
    "\n",
    "    print(f\"{player}==>Min:{min_score}, Max:{max_score}, Avg:{avg_score}\")"
   ]
  },
  {
   "cell_type": "markdown",
   "metadata": {
    "colab_type": "text",
    "id": "HqGkzGcV-Ylv"
   },
   "source": [
    "# **Exercise**"
   ]
  },
  {
   "cell_type": "markdown",
   "metadata": {
    "colab_type": "text",
    "id": "_JrYr4Nx-f9t"
   },
   "source": [
    "(1) **poem.txt** contains famous poem \"Road not taken\" by poet Robert Frost. You have to read this file in your python program and find out words with maximum occurance."
   ]
  },
  {
   "cell_type": "markdown",
   "metadata": {
    "colab_type": "text",
    "id": "h8xJ7cUK-rO1"
   },
   "source": [
    "(2) **stocks.csv** contains stock price, earnings per share and book value. You are writing a stock market application that will process this file and create a new file with financial metrics such as pe ratio and price to book ratio. These are calculated as,\n",
    "\n",
    "```\n",
    "pe ratio = price / earnings per share\n",
    "price to book ratio = price / book value\n",
    "```\n",
    "Your input format (stocks.csv) is,\n",
    "\n",
    "\n",
    "|Company Name|Price|Earnings Per Share|Book Value|\n",
    "|-------|----------|-------|----------|\n",
    "|Reliance|1467|66|653|\n",
    "|Tata Steel|391|89|572|\n",
    "\n",
    "\n",
    "Output.csv should look like this,\n",
    "\n",
    "\n",
    "|Company Name|PE Ratio|PB Ratio|\n",
    "|-------|----------|-------|\n",
    "|Reliance|22.23|2.25|\n",
    "|Tata Steel|4.39|0.68|\n"
   ]
  }
 ],
 "metadata": {
  "colab": {
   "collapsed_sections": [],
   "name": "python_file_handling.ipynb",
   "provenance": []
  },
  "kernelspec": {
   "display_name": "Python 3",
   "language": "python",
   "name": "python3"
  },
  "language_info": {
   "codemirror_mode": {
    "name": "ipython",
    "version": 3
   },
   "file_extension": ".py",
   "mimetype": "text/x-python",
   "name": "python",
   "nbconvert_exporter": "python",
   "pygments_lexer": "ipython3",
   "version": "3.7.3"
  }
 },
 "nbformat": 4,
 "nbformat_minor": 1
}
